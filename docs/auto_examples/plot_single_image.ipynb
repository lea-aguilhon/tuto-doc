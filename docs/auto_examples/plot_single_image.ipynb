{
  "cells": [
    {
      "cell_type": "markdown",
      "metadata": {},
      "source": [
        "\n# Plot a 3D image\n\nThis example shows how to plot a single 3D image.\n"
      ]
    },
    {
      "cell_type": "markdown",
      "metadata": {},
      "source": [
        "## Download the images\n\n"
      ]
    },
    {
      "cell_type": "code",
      "execution_count": null,
      "metadata": {
        "collapsed": false
      },
      "outputs": [],
      "source": [
        "import tarfile\nimport urllib.request\nfrom pathlib import Path\n\nurl = \"https://aramislab.paris.inria.fr/clinicadl/files/handbook_2023/data_oasis/BIDS_example.tar.gz\"\ndata_path = Path(\"data\")\ndata_path.mkdir(exist_ok=True)\ndownload_path = data_path / \"BIDS_example.tar.gz\"\n\nurllib.request.urlretrieve(url, download_path)\nwith tarfile.open(download_path, \"r:gz\") as tar:\n    tar.extractall(path=data_path)\n\nimage_path = (\n    data_path\n    / \"data_oasis\"\n    / \"BIDS_example\"\n    / \"sub-OASIS10016\"\n    / \"ses-M000\"\n    / \"anat\"\n    / \"sub-OASIS10016_ses-M000_T1w.nii.gz\"\n)\nimage_path.exists()"
      ]
    },
    {
      "cell_type": "markdown",
      "metadata": {},
      "source": [
        "## Plot the raw image\n\nLet's plot the sagittal and coronal axes of the image:\n\n"
      ]
    },
    {
      "cell_type": "code",
      "execution_count": null,
      "metadata": {
        "collapsed": false
      },
      "outputs": [],
      "source": [
        "from neuroplot.plot.single import SinglePlot\n\nplotter = SinglePlot(axes=[0, 1])\nplotter.plot(img_path=image_path)"
      ]
    },
    {
      "cell_type": "markdown",
      "metadata": {},
      "source": [
        "## Add transforms\n\nLet's add some noise to the image:\n\n"
      ]
    },
    {
      "cell_type": "code",
      "execution_count": null,
      "metadata": {
        "collapsed": false
      },
      "outputs": [],
      "source": [
        "from neuroplot.transforms import Noise\n\nplotter = SinglePlot(axes=[0, 1], transforms=[Noise(std=200)])\nplotter.plot(img_path=image_path)"
      ]
    }
  ],
  "metadata": {
    "kernelspec": {
      "display_name": "Python 3",
      "language": "python",
      "name": "python3"
    },
    "language_info": {
      "codemirror_mode": {
        "name": "ipython",
        "version": 3
      },
      "file_extension": ".py",
      "mimetype": "text/x-python",
      "name": "python",
      "nbconvert_exporter": "python",
      "pygments_lexer": "ipython3",
      "version": "3.12.11"
    }
  },
  "nbformat": 4,
  "nbformat_minor": 0
}